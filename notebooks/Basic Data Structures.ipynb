{
 "cells": [
  {
   "cell_type": "markdown",
   "metadata": {
    "ein.tags": [
     "worksheet-0"
    ]
   },
   "source": [
    "# Basic Data Structures\n",
    "\n",
    "## What are Data Structures?\n",
    "\n",
    "Imagine you want to plot hourly precipitation measurements from a rain gauge on a bar graph. Your first step will be to put the precipitation data inside a Python data structure. Data structures are how computer programs store information. This information can subsequently be processed, analyzed and visualized.\n",
    "\n",
    "There are many different types of data structures depending on the kind of data you wish to store. You will have to choose data structures that best meet your requirements for the problem you are trying to solve. Fortunately, Python as a \"batteries-included\" language gives you a practical choice of data structures to select from. We will do a minimal exploration of Python data structures; just enough to get you going. For a more complete treatment of Python data structures, see the [Data Structures](https://docs.python.org/3/tutorial/datastructures.html) section in the Python documentation.\n",
    "\n",
    "## Python Data Structures\n",
    "\n",
    "First, scientific data can be large and complex and may require data structures appropriate for *scientific* programming. We cover Python for scientific data further along in the [Scientific Python Package](http://unidata.github.io/online-python-training/) section. This notebook covers basic Python data structures meant for general-purpose programming, necessary to write programs in any capacity. Choosing the right data structure for the problem you are targeting will help your programs run correctly and efficiently, and make them easier for others to understand. We will specifically examine three Python data structures: lists, tuples, both Python sequences, and dictionaries.\n",
    "\n",
    "### Sequences\n",
    "\n",
    "Python offers several data structures to store sequences of information such as hourly mean sea level pressure readings from a weather station, or three-dimensional coordinates describing a location in a climate model. To accommodate storage of such data, Python has a few different choices. We will discuss two of them: lists and tuples.\n",
    "\n",
    "#### List\n",
    "\n",
    "A Python list is a sequence of values that are usually the same kind of item. They are ordered, which means items of a list stay in the order they are inserted in. They can contain strings, numbers, or more complex items. Lists are mutable, which is a fancy way of saying they can be changed after they are created. Here is a Python list of [decadal concentrations of carbon dioxide (ppm) measured at the Mauna Loa observatory](https://www3.epa.gov/climatechange/science/indicators/ghg/ghg-concentrations.html) from 1970 to 2010 assigned to the `co2` variable."
   ]
  },
  {
   "cell_type": "code",
   "execution_count": 1,
   "metadata": {
    "autoscroll": "json-false",
    "collapsed": false,
    "ein.tags": [
     "worksheet-0"
    ]
   },
   "outputs": [],
   "source": [
    "co2 = [325.68, 338.68, 354.35, 371.13, 387.37]"
   ]
  },
  {
   "cell_type": "markdown",
   "metadata": {
    "ein.tags": [
     "worksheet-0"
    ]
   },
   "source": [
    "The list is demarcated with square brackets, the values are comma delimited and assigned to the `co2` variable with the `=` assignment operator.\n",
    "\n",
    "##### What Can You Do with a List?\n",
    "    \n",
    "Once you have created your list, there are [many options to further manipulate the list](https://docs.python.org/3/tutorial/datastructures.html). We will examine just a few examples.\n",
    "        \n",
    "- **Add an Item to the End of the List**\n",
    "        \n",
    "Continuing with our list of carbon dioxide concentrations, we want to add a prediction for the year 2020 of 400.0 ppm to the `co2` list. We can use the `append` *method* to add an item to the end of the list. ([A method is like a function](https://github.com/Unidata/online-python-training/blob/master/notebooks/Times%20and%20Dates.ipynb#The-Thirty-Second-Introduction-to-Object-Oriented-Programming), but denoted with the `.` notation after the variable it is acting on. Instead of `append(co2, 400.0)` you have `co2.append(400.0)`.)\n"
   ]
  },
  {
   "cell_type": "code",
   "execution_count": 2,
   "metadata": {
    "autoscroll": "json-false",
    "collapsed": false,
    "ein.tags": [
     "worksheet-0"
    ]
   },
   "outputs": [
    {
     "name": "stdout",
     "output_type": "stream",
     "text": [
      "[325.68, 338.68, 354.35, 371.13, 387.37, 400.0]\n"
     ]
    }
   ],
   "source": [
    "co2.append(400.0)\n",
    "print(co2)"
   ]
  },
  {
   "cell_type": "markdown",
   "metadata": {
    "ein.tags": [
     "worksheet-0"
    ]
   },
   "source": [
    "- **Add an Item to the Front of the List**\n",
    "\n",
    "The carbon dioxide concentration in 1960 at Mauna Loa was 316.91 ppm. We can use the `insert` method, to add an item to the list at the location of our choosing, in this case location or index `0`. (Python sequences start at index `0`, not `1` like Matlab or Fortran.)"
   ]
  },
  {
   "cell_type": "code",
   "execution_count": 3,
   "metadata": {
    "autoscroll": "json-false",
    "collapsed": false,
    "ein.tags": [
     "worksheet-0"
    ]
   },
   "outputs": [
    {
     "name": "stdout",
     "output_type": "stream",
     "text": [
      "[316.91, 325.68, 338.68, 354.35, 371.13, 387.37, 400.0]\n"
     ]
    }
   ],
   "source": [
    "co2.insert(0, 316.91)\n",
    "print(co2)"
   ]
  },
  {
   "cell_type": "markdown",
   "metadata": {
    "ein.tags": [
     "worksheet-0"
    ]
   },
   "source": [
    "- **Change a Value in the List**\n",
    "        \n",
    "We want to improve our estimate of the year 2020 carbon dioxide concentration to a value of 401.0 ppm. We will access the 7th value on the list with the square bracket notation."
   ]
  },
  {
   "cell_type": "code",
   "execution_count": 4,
   "metadata": {
    "autoscroll": "json-false",
    "collapsed": false,
    "ein.tags": [
     "worksheet-0"
    ]
   },
   "outputs": [
    {
     "name": "stdout",
     "output_type": "stream",
     "text": [
      "[316.91, 325.68, 338.68, 354.35, 371.13, 387.37, 401.0]\n"
     ]
    }
   ],
   "source": [
    "co2[6] = 401.0  # Remember, 7th item at index 6 because we start at 0, not 1\n",
    "print(co2)"
   ]
  },
  {
   "cell_type": "markdown",
   "metadata": {
    "ein.tags": [
     "worksheet-0"
    ]
   },
   "source": [
    "#### Tuples\n",
    "\n",
    "Tuples are also ordered sequences of information but they are immutable, which means once they are created, they cannot change. Immutability may seem like a strange concept given that computer programs are constantly manipulating and changing data, but your program becomes easier to understand when you can guarantee something is unchanging. Tuples tend to contain related items such as an x and y locations in a Cartesian plane, or an author, title and journal in a scholarly citation.\n",
    "    \n",
    "Here we define a tuple representing a geographic coordinate expressed latitude, longitude and elevation in meters:"
   ]
  },
  {
   "cell_type": "code",
   "execution_count": 5,
   "metadata": {
    "autoscroll": "json-false",
    "collapsed": false,
    "ein.tags": [
     "worksheet-0"
    ]
   },
   "outputs": [],
   "source": [
    "location = (40.0, -105.3, 1655.1)"
   ]
  },
  {
   "cell_type": "markdown",
   "metadata": {
    "ein.tags": [
     "worksheet-0"
    ]
   },
   "source": [
    "The tuple definition is demarcated with parentheses, the values are comma delimited and assigned to the `location` variable with the `=` assignment operator. Because tuples are immutable, unlike lists, there are no operations to change them in-place.\n",
    "\n",
    "#### Built-in Functions for Lists and Tuples\n",
    "\n",
    "There are several [built-in Python functions](https://docs.python.org/3/library/functions.html) to examine both lists and tuples. Let's look at a few. We can find out the length of the tuple or list with the built-in Python `len` function:\n"
   ]
  },
  {
   "cell_type": "code",
   "execution_count": 6,
   "metadata": {
    "autoscroll": "json-false",
    "collapsed": false,
    "ein.tags": [
     "worksheet-0"
    ]
   },
   "outputs": [
    {
     "name": "stdout",
     "output_type": "stream",
     "text": [
      "7\n"
     ]
    }
   ],
   "source": [
    "print(len(co2))"
   ]
  },
  {
   "cell_type": "markdown",
   "metadata": {
    "ein.tags": [
     "worksheet-0"
    ]
   },
   "source": [
    "We can also discover the min and max of a sequence:"
   ]
  },
  {
   "cell_type": "code",
   "execution_count": 7,
   "metadata": {
    "autoscroll": "json-false",
    "collapsed": false,
    "ein.tags": [
     "worksheet-0"
    ]
   },
   "outputs": [
    {
     "name": "stdout",
     "output_type": "stream",
     "text": [
      "316.91 401.0\n"
     ]
    }
   ],
   "source": [
    "print(min(co2), max(co2))"
   ]
  },
  {
   "cell_type": "markdown",
   "metadata": {
    "ein.tags": [
     "worksheet-0"
    ]
   },
   "source": [
    "#### Accessing Data from Lists and Tuples\n",
    "\n",
    "Python offers a rich variety of options to access values inside lists and tuples, and you will want to eventually understand [indexing, slicing and striding expressions](https://docs.python.org/3/reference/datamodel.html#the-standard-type-hierarchy). For brevity, we will only examine a couple of examples to get values inside sequences. Again, note valid indices on lists and tuples start at 0 and end at size of list - 1.\n",
    "\n",
    "##### Indexing\n",
    "\n",
    "Individual items inside the list can be obtained with the square bracket notation. Here will assign a couple of values from inside the list to two variables: `co2_1960` and `co2_2010`. We will the print the values with [Python 3 positional formatting](https://docs.python.org/3/library/string.html#format-string-syntax)."
   ]
  },
  {
   "cell_type": "code",
   "execution_count": 8,
   "metadata": {
    "autoscroll": "json-false",
    "collapsed": false,
    "ein.tags": [
     "worksheet-0"
    ]
   },
   "outputs": [
    {
     "name": "stdout",
     "output_type": "stream",
     "text": [
      "Mauna Loa carbon dioxide concentration in 1960 was 316.91 ppm and in 2010 was 387.37 ppm.\n"
     ]
    }
   ],
   "source": [
    "co2_1960 = co2[0]  # index 0 at 1960\n",
    "co2_2010 = co2[5]  # index 5 at 2010\n",
    "print('Mauna Loa carbon dioxide concentration '\n",
    "      'in 1960 was {0} ppm and '\n",
    "      'in 2010 was {1} ppm.'.format(co2_1960, co2_2010))"
   ]
  },
  {
   "cell_type": "markdown",
   "metadata": {
    "ein.tags": [
     "worksheet-0"
    ]
   },
   "source": [
    "##### Multiple Assignments for Unpacking Tuples\n",
    "\n",
    "Python sequences also allow for multiple assignments for unpacking. This trick is quite handy for tuples:"
   ]
  },
  {
   "cell_type": "code",
   "execution_count": 9,
   "metadata": {
    "autoscroll": "json-false",
    "collapsed": false,
    "ein.tags": [
     "worksheet-0"
    ]
   },
   "outputs": [
    {
     "name": "stdout",
     "output_type": "stream",
     "text": [
      "lat 40.0, lon -105.3, elevation 1655.1\n"
     ]
    }
   ],
   "source": [
    "lat, lon, elev = location  # unpacking the tuple\n",
    "print('lat {0}, lon {1}, elevation {2}'.format(lat, lon, elev))"
   ]
  },
  {
   "cell_type": "markdown",
   "metadata": {
    "ein.tags": [
     "worksheet-0"
    ]
   },
   "source": [
    "### Dictionaries\n",
    "\n",
    "Dictionary data structures are easy to understand because you are already familiar with them. When you look up a word definition in a language dictionary or use an index in the back of a book, you are using a dictionary data structure. Dictionaries are composed of key and value pairs. For example,\n",
    "\n",
    "> hydrometeor - an atmospheric phenomenon or entity involving water or water vapor, such as rain or a cloud\n",
    "\n",
    "Here, the key is \"hydrometeor\" and the value is \"an atmospheric phenomenon or entity involving water or water vapor, such as rain or a cloud.\"\n",
    "\n",
    "Let's build upon the earlier tuple example by defining a dictionary of [METAR weather stations](https://en.wikipedia.org/wiki/METAR). The keys are strings representing the METAR [ICAO](https://en.wikipedia.org/wiki/International_Civil_Aviation_Organization_airport_code) identifier, the values are tuples representing the location of the station expressed in latitude, longitude and elevation in meters"
   ]
  },
  {
   "cell_type": "code",
   "execution_count": 10,
   "metadata": {
    "autoscroll": "json-false",
    "collapsed": false,
    "ein.tags": [
     "worksheet-0"
    ]
   },
   "outputs": [],
   "source": [
    "metars = {\n",
    "    'KPRG': (48.96, 2.44, 66),\n",
    "    'FAGM': (-26.24, 28.15, 1671),\n",
    "    'KNYC': (40.71, -74.01, 10)}"
   ]
  },
  {
   "cell_type": "markdown",
   "metadata": {
    "ein.tags": [
     "worksheet-0"
    ]
   },
   "source": [
    "Unlike lists and tuples, dictionaries are unordered; entries in a dictionary are not in the order they are inserted in and you cannot rely on any predictable ordering. This is not a problem as you will be using Python dictionary operations to look up the information contained within the dictionary.\n",
    "##### What Can You Do with a Dictionary?\n",
    "\n",
    "- **Look up a Value in a Dictionary**\n",
    "    \n",
    "Let's look up the METAR location for `KNYC`.\n"
   ]
  },
  {
   "cell_type": "code",
   "execution_count": 11,
   "metadata": {
    "autoscroll": "json-false",
    "collapsed": false,
    "ein.tags": [
     "worksheet-0"
    ]
   },
   "outputs": [
    {
     "name": "stdout",
     "output_type": "stream",
     "text": [
      "(40.71, -74.01, 10)\n"
     ]
    }
   ],
   "source": [
    "print(metars['KNYC'])"
   ]
  },
  {
   "cell_type": "markdown",
   "metadata": {
    "ein.tags": [
     "worksheet-0"
    ]
   },
   "source": [
    "- **Add a Value to a Dictionary**\n",
    "\n",
    "Let's add the METAR station `SBSP` for São Paulo, Brazil to our METAR dictionary:"
   ]
  },
  {
   "cell_type": "code",
   "execution_count": 12,
   "metadata": {
    "autoscroll": "json-false",
    "collapsed": false,
    "ein.tags": [
     "worksheet-0"
    ]
   },
   "outputs": [],
   "source": [
    "metars['SBSP'] = (-23.63, -46.66, 801)"
   ]
  },
  {
   "cell_type": "markdown",
   "metadata": {
    "ein.tags": [
     "worksheet-0"
    ]
   },
   "source": [
    "Note that the keys in dictionary data structures are unique. This means, for example, that if you provide a more accurate location for the São Paulo METAR, then that new key will replace the old one:"
   ]
  },
  {
   "cell_type": "code",
   "execution_count": 13,
   "metadata": {
    "autoscroll": "json-false",
    "collapsed": false,
    "ein.tags": [
     "worksheet-0"
    ]
   },
   "outputs": [
    {
     "name": "stdout",
     "output_type": "stream",
     "text": [
      "(-23.627, -46.655, 803.1)\n"
     ]
    }
   ],
   "source": [
    "metars['SBSP'] = (-23.627, -46.655, 803.1)\n",
    "print(metars['SBSP'])"
   ]
  },
  {
   "cell_type": "markdown",
   "metadata": {
    "ein.tags": [
     "worksheet-0"
    ]
   },
   "source": [
    "There will not be two `SBSP` keys in the dictionary.\n",
    "\n",
    "## Further Reading\n",
    "\n",
    "There are many topics concerning Python data structures that we did not cover in the interest of brevity. We encourage you to research more elaborate [indexing, slicing and striding expressions](https://docs.python.org/3/reference/datamodel.html#the-standard-type-hierarchy). Also, we did not cover [Sets](https://docs.python.org/3/tutorial/datastructures.html#sets), which is a data structure composed of unique, unordered values similar to keys in a dictionary data structure. There are several valuable built-in Python functions that merit study: [filter()](https://docs.python.org/3/library/functions.html#filter), [map()](https://docs.python.org/3/library/functions.html#map), [sorted()](https://docs.python.org/3/library/functions.html#sorted) functions to name a few. Lastly, in the \"Flow Control\" notebook, we will examine Python list comprehension to process information inside of sequences and dictionaries."
   ]
  }
 ],
 "metadata": {
  "kernelspec": {
   "display_name": "Python 3",
   "language": "python",
   "name": "python3"
  },
  "language_info": {
   "codemirror_mode": {
    "name": "ipython",
    "version": 3
   },
   "file_extension": ".py",
   "mimetype": "text/x-python",
   "name": "python",
   "nbconvert_exporter": "python",
   "pygments_lexer": "ipython3",
   "version": "3.5.1"
  },
  "name": "data structures.ipynb",
  "widgets": {
   "state": {},
   "version": "1.1.1"
  }
 },
 "nbformat": 4,
 "nbformat_minor": 0
}
