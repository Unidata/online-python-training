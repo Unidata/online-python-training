{
 "cells": [
  {
   "cell_type": "markdown",
   "metadata": {},
   "source": [
    "# Conditionals: `if` and `else`\n",
    "\n",
    "A \"conditional\" is programming term that just describes the syntax used within a program to check whether certain statements should be run within program. In this case, the program checks whether a certain set of \"conditions\" has been met, and if so, it runs some part of the program's code."
   ]
  },
  {
   "cell_type": "markdown",
   "metadata": {},
   "source": [
    "## `if` Statements\n",
    "The `if` statement is the core component of running code conditionally. An example of an `if` statement in Python is given below:"
   ]
  },
  {
   "cell_type": "code",
   "execution_count": 3,
   "metadata": {
    "collapsed": false
   },
   "outputs": [
    {
     "name": "stdout",
     "output_type": "stream",
     "text": [
      "Temperature is above freezing\n"
     ]
    }
   ],
   "source": [
    "temperature = 35\n",
    "if temperature > 32:\n",
    "    print('Temperature is above freezing.')"
   ]
  },
  {
   "cell_type": "markdown",
   "metadata": {},
   "source": [
    "In Python, an `if` statement starts with the keyword `if`, is followed by the condition to check, and then ends with a `:`. After the `:` is an indented block of code that will only be run if the condition evaluates to a value of `True`.\n",
    "\n",
    "In the example above, the code is checking whether the value of the variable `temperature` is greater than the value 32 (the freezing point of water in degrees Farenheit); if the condition is true, then the the message `'Temperature is above freezing.'` is displayed. If the condition evaluates to `False`, then the code in the indented block is not executed. We can check the results by looking at the value of the condition, as we do below:"
   ]
  },
  {
   "cell_type": "code",
   "execution_count": 4,
   "metadata": {
    "collapsed": false
   },
   "outputs": [
    {
     "data": {
      "text/plain": [
       "True"
      ]
     },
     "execution_count": 4,
     "metadata": {},
     "output_type": "execute_result"
    }
   ],
   "source": [
    "temperature > 32"
   ]
  },
  {
   "cell_type": "markdown",
   "metadata": {},
   "source": [
    "We see that the value of the condition is `True`, which explains why the print function was called. We can change the value of `temperature` see what happens if the condition is `False`:"
   ]
  },
  {
   "cell_type": "code",
   "execution_count": 6,
   "metadata": {
    "collapsed": false
   },
   "outputs": [],
   "source": [
    "temperature = 30\n",
    "if temperature > 32:\n",
    "    print('Temperature is above freezing.')"
   ]
  },
  {
   "cell_type": "markdown",
   "metadata": {},
   "source": [
    "In this case, nothing is printed since the value of `temperature` is not greater than 32. What do we do if we want to run one part of the code if a condition is true, and another if the condition is false?"
   ]
  },
  {
   "cell_type": "markdown",
   "metadata": {},
   "source": [
    "## The `else` Block\n",
    "\n",
    "The way to run code if a condition is false is called the `else` block. This is created by following the indented code of an `if` statement by a dedented `else:`, followed by an indented block of code. This block of code will be execute if the condition in the `if` statement evaluates to `False`. For example, going back to the code we looked at earlier, we can modify it to print the message `Temperature is freezing.` if condition is `False` (i.e. `temperature` is not greater than 32):"
   ]
  },
  {
   "cell_type": "code",
   "execution_count": 7,
   "metadata": {
    "collapsed": false
   },
   "outputs": [
    {
     "name": "stdout",
     "output_type": "stream",
     "text": [
      "Temperature is freezing.\n"
     ]
    }
   ],
   "source": [
    "temperature = 30\n",
    "if temperature > 32:\n",
    "    print('Temperature is above freezing.')\n",
    "else:\n",
    "    print('Temperature is freezing.')"
   ]
  }
 ],
 "metadata": {
  "kernelspec": {
   "display_name": "Python 3.5",
   "language": "python",
   "name": "python3"
  },
  "language_info": {
   "codemirror_mode": {
    "name": "ipython",
    "version": 3
   },
   "file_extension": ".py",
   "mimetype": "text/x-python",
   "name": "python",
   "nbconvert_exporter": "python",
   "pygments_lexer": "ipython3",
   "version": "3.5.1"
  },
  "widgets": {
   "state": {},
   "version": "1.1.1"
  }
 },
 "nbformat": 4,
 "nbformat_minor": 0
}
